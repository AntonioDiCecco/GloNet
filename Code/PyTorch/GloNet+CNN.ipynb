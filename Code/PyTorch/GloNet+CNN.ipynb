{
  "nbformat": 4,
  "nbformat_minor": 0,
  "metadata": {
    "colab": {
      "provenance": []
    },
    "kernelspec": {
      "name": "python3",
      "display_name": "Python 3"
    },
    "language_info": {
      "name": "python"
    }
  },
  "cells": [
    {
      "cell_type": "markdown",
      "source": [
        "#GloNet ResNet"
      ],
      "metadata": {
        "id": "60xQXx5ZELVm"
      }
    },
    {
      "cell_type": "code",
      "execution_count": null,
      "metadata": {
        "colab": {
          "base_uri": "https://localhost:8080/",
          "height": 1000
        },
        "id": "gE2MiT5bZAhU",
        "outputId": "12475427-ef5b-4864-a3c9-7b37a41c8019"
      },
      "outputs": [
        {
          "name": "stdout",
          "output_type": "stream",
          "text": [
            "Files already downloaded and verified\n",
            "Files already downloaded and verified\n"
          ]
        },
        {
          "name": "stderr",
          "output_type": "stream",
          "text": [
            "\r  0%|          | 0/200 [00:00<?, ?it/s]"
          ]
        },
        {
          "name": "stdout",
          "output_type": "stream",
          "text": [
            "Epoch [1/200] Training Loss: 1.9253754335291244, Training Accuracy: 25.538%\n"
          ]
        },
        {
          "name": "stderr",
          "output_type": "stream",
          "text": [
            "\r  0%|          | 1/200 [00:35<1:59:12, 35.94s/it]"
          ]
        },
        {
          "name": "stdout",
          "output_type": "stream",
          "text": [
            "Test Accuracy after Epoch 1: 31.25%\n",
            "Epoch [2/200] Training Loss: 1.6102333166410245, Training Accuracy: 39.17%\n"
          ]
        },
        {
          "name": "stderr",
          "output_type": "stream",
          "text": [
            "\r  1%|          | 2/200 [01:11<1:57:28, 35.60s/it]"
          ]
        },
        {
          "name": "stdout",
          "output_type": "stream",
          "text": [
            "Test Accuracy after Epoch 2: 38.83%\n",
            "Epoch [3/200] Training Loss: 1.39680560074194, Training Accuracy: 48.808%\n"
          ]
        },
        {
          "name": "stderr",
          "output_type": "stream",
          "text": [
            "\r  2%|▏         | 3/200 [01:47<1:57:03, 35.65s/it]"
          ]
        },
        {
          "name": "stdout",
          "output_type": "stream",
          "text": [
            "Test Accuracy after Epoch 3: 48.99%\n",
            "Epoch [4/200] Training Loss: 1.2361784565174365, Training Accuracy: 55.768%\n"
          ]
        },
        {
          "name": "stderr",
          "output_type": "stream",
          "text": [
            "\r  2%|▏         | 4/200 [02:22<1:56:45, 35.74s/it]"
          ]
        },
        {
          "name": "stdout",
          "output_type": "stream",
          "text": [
            "Test Accuracy after Epoch 4: 48.07%\n",
            "Epoch [5/200] Training Loss: 1.1261799853780996, Training Accuracy: 59.906%\n"
          ]
        },
        {
          "name": "stderr",
          "output_type": "stream",
          "text": [
            "\r  2%|▎         | 5/200 [02:58<1:56:01, 35.70s/it]"
          ]
        },
        {
          "name": "stdout",
          "output_type": "stream",
          "text": [
            "Test Accuracy after Epoch 5: 57.91%\n",
            "Epoch [6/200] Training Loss: 1.0384807969298204, Training Accuracy: 63.152%\n"
          ]
        },
        {
          "name": "stderr",
          "output_type": "stream",
          "text": [
            "\r  3%|▎         | 6/200 [03:34<1:55:16, 35.65s/it]"
          ]
        },
        {
          "name": "stdout",
          "output_type": "stream",
          "text": [
            "Test Accuracy after Epoch 6: 59.64%\n",
            "Epoch [7/200] Training Loss: 0.97966670868037, Training Accuracy: 65.668%\n"
          ]
        },
        {
          "name": "stderr",
          "output_type": "stream",
          "text": [
            "\r  4%|▎         | 7/200 [04:09<1:54:14, 35.52s/it]"
          ]
        },
        {
          "name": "stdout",
          "output_type": "stream",
          "text": [
            "Test Accuracy after Epoch 7: 63.92%\n",
            "Epoch [8/200] Training Loss: 0.9184392715049217, Training Accuracy: 67.932%\n"
          ]
        },
        {
          "name": "stderr",
          "output_type": "stream",
          "text": [
            "\r  4%|▍         | 8/200 [04:44<1:53:34, 35.49s/it]"
          ]
        },
        {
          "name": "stdout",
          "output_type": "stream",
          "text": [
            "Test Accuracy after Epoch 8: 61.26%\n",
            "Epoch [9/200] Training Loss: 0.8748614786531005, Training Accuracy: 69.61%\n"
          ]
        },
        {
          "name": "stderr",
          "output_type": "stream",
          "text": [
            "\r  4%|▍         | 9/200 [05:20<1:52:47, 35.43s/it]"
          ]
        },
        {
          "name": "stdout",
          "output_type": "stream",
          "text": [
            "Test Accuracy after Epoch 9: 51.68%\n",
            "Epoch [10/200] Training Loss: 0.8236248872774031, Training Accuracy: 71.456%\n"
          ]
        },
        {
          "name": "stderr",
          "output_type": "stream",
          "text": [
            "\r  5%|▌         | 10/200 [05:55<1:52:02, 35.38s/it]"
          ]
        },
        {
          "name": "stdout",
          "output_type": "stream",
          "text": [
            "Test Accuracy after Epoch 10: 66.25%\n",
            "Epoch [11/200] Training Loss: 0.7811220547427302, Training Accuracy: 73.108%\n"
          ]
        },
        {
          "name": "stderr",
          "output_type": "stream",
          "text": [
            "\r  6%|▌         | 11/200 [06:30<1:51:04, 35.26s/it]"
          ]
        },
        {
          "name": "stdout",
          "output_type": "stream",
          "text": [
            "Test Accuracy after Epoch 11: 62.73%\n",
            "Epoch [12/200] Training Loss: 0.7434314949738096, Training Accuracy: 74.414%\n"
          ]
        },
        {
          "name": "stderr",
          "output_type": "stream",
          "text": [
            "\r  6%|▌         | 12/200 [07:05<1:50:38, 35.31s/it]"
          ]
        },
        {
          "name": "stdout",
          "output_type": "stream",
          "text": [
            "Test Accuracy after Epoch 12: 68.96%\n",
            "Epoch [13/200] Training Loss: 0.7073617809263947, Training Accuracy: 75.89%\n"
          ]
        },
        {
          "name": "stderr",
          "output_type": "stream",
          "text": [
            "\r  6%|▋         | 13/200 [07:40<1:49:52, 35.25s/it]"
          ]
        },
        {
          "name": "stdout",
          "output_type": "stream",
          "text": [
            "Test Accuracy after Epoch 13: 69.66%\n",
            "Epoch [14/200] Training Loss: 0.6914610584526111, Training Accuracy: 76.364%\n"
          ]
        },
        {
          "name": "stderr",
          "output_type": "stream",
          "text": [
            "\r  7%|▋         | 14/200 [08:16<1:49:17, 35.26s/it]"
          ]
        },
        {
          "name": "stdout",
          "output_type": "stream",
          "text": [
            "Test Accuracy after Epoch 14: 68.01%\n",
            "Epoch [15/200] Training Loss: 0.6631828982506871, Training Accuracy: 77.482%\n"
          ]
        },
        {
          "name": "stderr",
          "output_type": "stream",
          "text": [
            "\r  8%|▊         | 15/200 [08:51<1:48:35, 35.22s/it]"
          ]
        },
        {
          "name": "stdout",
          "output_type": "stream",
          "text": [
            "Test Accuracy after Epoch 15: 73.11%\n",
            "Epoch [16/200] Training Loss: 0.6405041381678618, Training Accuracy: 78.242%\n"
          ]
        },
        {
          "name": "stderr",
          "output_type": "stream",
          "text": [
            "\r  8%|▊         | 16/200 [09:26<1:47:52, 35.18s/it]"
          ]
        },
        {
          "name": "stdout",
          "output_type": "stream",
          "text": [
            "Test Accuracy after Epoch 16: 66.03%\n",
            "Epoch [17/200] Training Loss: 0.6183172969714456, Training Accuracy: 78.922%\n"
          ]
        },
        {
          "name": "stderr",
          "output_type": "stream",
          "text": [
            "\r  8%|▊         | 17/200 [10:01<1:47:07, 35.12s/it]"
          ]
        },
        {
          "name": "stdout",
          "output_type": "stream",
          "text": [
            "Test Accuracy after Epoch 17: 66.45%\n",
            "Epoch [18/200] Training Loss: 0.6071569242745715, Training Accuracy: 79.264%\n"
          ]
        },
        {
          "name": "stderr",
          "output_type": "stream",
          "text": [
            "\r  9%|▉         | 18/200 [10:37<1:47:11, 35.34s/it]"
          ]
        },
        {
          "name": "stdout",
          "output_type": "stream",
          "text": [
            "Test Accuracy after Epoch 18: 72.34%\n",
            "Epoch [19/200] Training Loss: 0.5982809885383567, Training Accuracy: 79.826%\n"
          ]
        },
        {
          "name": "stderr",
          "output_type": "stream",
          "text": [
            "\r 10%|▉         | 19/200 [11:12<1:46:49, 35.41s/it]"
          ]
        },
        {
          "name": "stdout",
          "output_type": "stream",
          "text": [
            "Test Accuracy after Epoch 19: 74.66%\n",
            "Epoch [20/200] Training Loss: 0.5881069221002672, Training Accuracy: 79.912%\n"
          ]
        },
        {
          "name": "stderr",
          "output_type": "stream",
          "text": [
            "\r 10%|█         | 20/200 [11:48<1:46:06, 35.37s/it]"
          ]
        },
        {
          "name": "stdout",
          "output_type": "stream",
          "text": [
            "Test Accuracy after Epoch 20: 71.93%\n",
            "Epoch [21/200] Training Loss: 0.5689292502830096, Training Accuracy: 80.77%\n"
          ]
        },
        {
          "name": "stderr",
          "output_type": "stream",
          "text": [
            "\r 10%|█         | 21/200 [12:23<1:45:16, 35.29s/it]"
          ]
        },
        {
          "name": "stdout",
          "output_type": "stream",
          "text": [
            "Test Accuracy after Epoch 21: 72.29%\n",
            "Epoch [22/200] Training Loss: 0.5667007898583132, Training Accuracy: 80.786%\n"
          ]
        },
        {
          "name": "stderr",
          "output_type": "stream",
          "text": [
            "\r 11%|█         | 22/200 [12:58<1:44:53, 35.36s/it]"
          ]
        },
        {
          "name": "stdout",
          "output_type": "stream",
          "text": [
            "Test Accuracy after Epoch 22: 77.65%\n",
            "Epoch [23/200] Training Loss: 0.5516660710429901, Training Accuracy: 81.374%\n"
          ]
        },
        {
          "name": "stderr",
          "output_type": "stream",
          "text": [
            "\r 12%|█▏        | 23/200 [13:34<1:44:22, 35.38s/it]"
          ]
        },
        {
          "name": "stdout",
          "output_type": "stream",
          "text": [
            "Test Accuracy after Epoch 23: 78.33%\n",
            "Epoch [24/200] Training Loss: 0.5337719988182682, Training Accuracy: 81.936%\n"
          ]
        },
        {
          "name": "stderr",
          "output_type": "stream",
          "text": [
            "\r 12%|█▏        | 24/200 [14:09<1:43:33, 35.30s/it]"
          ]
        },
        {
          "name": "stdout",
          "output_type": "stream",
          "text": [
            "Test Accuracy after Epoch 24: 79.68%\n",
            "Epoch [25/200] Training Loss: 0.5303744733943354, Training Accuracy: 81.932%\n"
          ]
        },
        {
          "name": "stderr",
          "output_type": "stream",
          "text": [
            "\r 12%|█▎        | 25/200 [14:44<1:42:43, 35.22s/it]"
          ]
        },
        {
          "name": "stdout",
          "output_type": "stream",
          "text": [
            "Test Accuracy after Epoch 25: 76.32%\n",
            "Epoch [26/200] Training Loss: 0.5243513543739953, Training Accuracy: 82.22%\n"
          ]
        },
        {
          "name": "stderr",
          "output_type": "stream",
          "text": [
            "\r 13%|█▎        | 26/200 [15:19<1:42:21, 35.29s/it]"
          ]
        },
        {
          "name": "stdout",
          "output_type": "stream",
          "text": [
            "Test Accuracy after Epoch 26: 72.77%\n",
            "Epoch [27/200] Training Loss: 0.5099464869865066, Training Accuracy: 82.62%\n"
          ]
        },
        {
          "name": "stderr",
          "output_type": "stream",
          "text": [
            "\r 14%|█▎        | 27/200 [15:55<1:41:50, 35.32s/it]"
          ]
        },
        {
          "name": "stdout",
          "output_type": "stream",
          "text": [
            "Test Accuracy after Epoch 27: 76.24%\n",
            "Epoch [28/200] Training Loss: 0.5116296777182527, Training Accuracy: 82.546%\n"
          ]
        },
        {
          "name": "stderr",
          "output_type": "stream",
          "text": [
            "\r 14%|█▍        | 28/200 [16:30<1:41:02, 35.25s/it]"
          ]
        },
        {
          "name": "stdout",
          "output_type": "stream",
          "text": [
            "Test Accuracy after Epoch 28: 76.53%\n",
            "Epoch [29/200] Training Loss: 0.49895455998837795, Training Accuracy: 83.054%\n"
          ]
        },
        {
          "name": "stderr",
          "output_type": "stream",
          "text": [
            "\r 14%|█▍        | 29/200 [17:05<1:40:28, 35.26s/it]"
          ]
        },
        {
          "name": "stdout",
          "output_type": "stream",
          "text": [
            "Test Accuracy after Epoch 29: 76.82%\n",
            "Epoch [30/200] Training Loss: 0.4996979455356403, Training Accuracy: 82.988%\n"
          ]
        },
        {
          "name": "stderr",
          "output_type": "stream",
          "text": [
            "\r 15%|█▌        | 30/200 [17:40<1:40:01, 35.30s/it]"
          ]
        },
        {
          "name": "stdout",
          "output_type": "stream",
          "text": [
            "Test Accuracy after Epoch 30: 81.38%\n",
            "Epoch [31/200] Training Loss: 0.4940712064733286, Training Accuracy: 83.24%\n"
          ]
        },
        {
          "name": "stderr",
          "output_type": "stream",
          "text": [
            "\r 16%|█▌        | 31/200 [18:16<1:39:28, 35.31s/it]"
          ]
        },
        {
          "name": "stdout",
          "output_type": "stream",
          "text": [
            "Test Accuracy after Epoch 31: 78.33%\n",
            "Epoch [32/200] Training Loss: 0.4836486830659535, Training Accuracy: 83.556%\n"
          ]
        },
        {
          "name": "stderr",
          "output_type": "stream",
          "text": [
            "\r 16%|█▌        | 32/200 [18:51<1:39:02, 35.37s/it]"
          ]
        },
        {
          "name": "stdout",
          "output_type": "stream",
          "text": [
            "Test Accuracy after Epoch 32: 78.36%\n",
            "Epoch [33/200] Training Loss: 0.48142682743804227, Training Accuracy: 83.732%\n"
          ]
        },
        {
          "name": "stderr",
          "output_type": "stream",
          "text": [
            "\r 16%|█▋        | 33/200 [19:27<1:38:28, 35.38s/it]"
          ]
        },
        {
          "name": "stdout",
          "output_type": "stream",
          "text": [
            "Test Accuracy after Epoch 33: 71.9%\n",
            "Epoch [34/200] Training Loss: 0.48614584126740773, Training Accuracy: 83.508%\n"
          ]
        },
        {
          "name": "stderr",
          "output_type": "stream",
          "text": [
            "\r 17%|█▋        | 34/200 [20:02<1:37:47, 35.35s/it]"
          ]
        },
        {
          "name": "stdout",
          "output_type": "stream",
          "text": [
            "Test Accuracy after Epoch 34: 76.26%\n",
            "Epoch [35/200] Training Loss: 0.46928878475333113, Training Accuracy: 84.072%\n"
          ]
        },
        {
          "name": "stderr",
          "output_type": "stream",
          "text": [
            "\r 18%|█▊        | 35/200 [20:37<1:37:17, 35.38s/it]"
          ]
        },
        {
          "name": "stdout",
          "output_type": "stream",
          "text": [
            "Test Accuracy after Epoch 35: 77.64%\n",
            "Epoch [36/200] Training Loss: 0.4595282738623412, Training Accuracy: 84.588%\n"
          ]
        },
        {
          "name": "stderr",
          "output_type": "stream",
          "text": [
            "\r 18%|█▊        | 36/200 [21:13<1:36:36, 35.35s/it]"
          ]
        },
        {
          "name": "stdout",
          "output_type": "stream",
          "text": [
            "Test Accuracy after Epoch 36: 80.03%\n",
            "Epoch [37/200] Training Loss: 0.458856571742031, Training Accuracy: 84.416%\n"
          ]
        },
        {
          "name": "stderr",
          "output_type": "stream",
          "text": [
            "\r 18%|█▊        | 37/200 [21:48<1:35:52, 35.29s/it]"
          ]
        },
        {
          "name": "stdout",
          "output_type": "stream",
          "text": [
            "Test Accuracy after Epoch 37: 81.21%\n",
            "Epoch [38/200] Training Loss: 0.4532645460970871, Training Accuracy: 84.722%\n"
          ]
        },
        {
          "name": "stderr",
          "output_type": "stream",
          "text": [
            "\r 19%|█▉        | 38/200 [22:23<1:35:10, 35.25s/it]"
          ]
        },
        {
          "name": "stdout",
          "output_type": "stream",
          "text": [
            "Test Accuracy after Epoch 38: 75.24%\n",
            "Epoch [39/200] Training Loss: 0.4539951193134498, Training Accuracy: 84.438%\n"
          ]
        },
        {
          "name": "stderr",
          "output_type": "stream",
          "text": [
            "\r 20%|█▉        | 39/200 [22:58<1:34:19, 35.15s/it]"
          ]
        },
        {
          "name": "stdout",
          "output_type": "stream",
          "text": [
            "Test Accuracy after Epoch 39: 76.53%\n",
            "Epoch [40/200] Training Loss: 0.44404251698185415, Training Accuracy: 84.916%\n"
          ]
        },
        {
          "name": "stderr",
          "output_type": "stream",
          "text": [
            "\r 20%|██        | 40/200 [23:33<1:33:37, 35.11s/it]"
          ]
        },
        {
          "name": "stdout",
          "output_type": "stream",
          "text": [
            "Test Accuracy after Epoch 40: 79.63%\n",
            "Epoch [41/200] Training Loss: 0.4386327000682616, Training Accuracy: 85.148%\n"
          ]
        },
        {
          "name": "stderr",
          "output_type": "stream",
          "text": [
            "\r 20%|██        | 41/200 [24:08<1:32:55, 35.07s/it]"
          ]
        },
        {
          "name": "stdout",
          "output_type": "stream",
          "text": [
            "Test Accuracy after Epoch 41: 77.61%\n",
            "Epoch [42/200] Training Loss: 0.4333955798383869, Training Accuracy: 85.08%\n"
          ]
        },
        {
          "name": "stderr",
          "output_type": "stream",
          "text": [
            "\r 21%|██        | 42/200 [24:43<1:32:24, 35.09s/it]"
          ]
        },
        {
          "name": "stdout",
          "output_type": "stream",
          "text": [
            "Test Accuracy after Epoch 42: 80.06%\n",
            "Epoch [43/200] Training Loss: 0.4409095490222697, Training Accuracy: 85.034%\n"
          ]
        },
        {
          "name": "stderr",
          "output_type": "stream",
          "text": [
            "\r 22%|██▏       | 43/200 [25:18<1:31:37, 35.02s/it]"
          ]
        },
        {
          "name": "stdout",
          "output_type": "stream",
          "text": [
            "Test Accuracy after Epoch 43: 70.92%\n",
            "Epoch [44/200] Training Loss: 0.4250869482298336, Training Accuracy: 85.426%\n"
          ]
        },
        {
          "name": "stderr",
          "output_type": "stream",
          "text": [
            "\r 22%|██▏       | 44/200 [25:53<1:31:15, 35.10s/it]"
          ]
        },
        {
          "name": "stdout",
          "output_type": "stream",
          "text": [
            "Test Accuracy after Epoch 44: 67.76%\n",
            "Epoch [45/200] Training Loss: 0.42657142610806026, Training Accuracy: 85.432%\n"
          ]
        },
        {
          "name": "stderr",
          "output_type": "stream",
          "text": [
            "\r 22%|██▎       | 45/200 [26:28<1:30:31, 35.04s/it]"
          ]
        },
        {
          "name": "stdout",
          "output_type": "stream",
          "text": [
            "Test Accuracy after Epoch 45: 79.66%\n",
            "Epoch [46/200] Training Loss: 0.43060234623491916, Training Accuracy: 85.37%\n"
          ]
        },
        {
          "name": "stderr",
          "output_type": "stream",
          "text": [
            "\r 23%|██▎       | 46/200 [27:03<1:29:50, 35.01s/it]"
          ]
        },
        {
          "name": "stdout",
          "output_type": "stream",
          "text": [
            "Test Accuracy after Epoch 46: 77.2%\n",
            "Epoch [47/200] Training Loss: 0.4230974406918601, Training Accuracy: 85.674%\n"
          ]
        },
        {
          "name": "stderr",
          "output_type": "stream",
          "text": [
            "\r 24%|██▎       | 47/200 [27:38<1:29:02, 34.92s/it]"
          ]
        },
        {
          "name": "stdout",
          "output_type": "stream",
          "text": [
            "Test Accuracy after Epoch 47: 77.16%\n",
            "Epoch [48/200] Training Loss: 0.4229169660974342, Training Accuracy: 85.59%\n"
          ]
        },
        {
          "name": "stderr",
          "output_type": "stream",
          "text": [
            "\r 24%|██▍       | 48/200 [28:12<1:28:12, 34.82s/it]"
          ]
        },
        {
          "name": "stdout",
          "output_type": "stream",
          "text": [
            "Test Accuracy after Epoch 48: 75.63%\n",
            "Epoch [49/200] Training Loss: 0.4180821149093111, Training Accuracy: 85.874%\n"
          ]
        },
        {
          "name": "stderr",
          "output_type": "stream",
          "text": [
            "\r 24%|██▍       | 49/200 [28:47<1:27:39, 34.83s/it]"
          ]
        },
        {
          "name": "stdout",
          "output_type": "stream",
          "text": [
            "Test Accuracy after Epoch 49: 62.8%\n",
            "Epoch [50/200] Training Loss: 0.415038848433958, Training Accuracy: 86.076%\n"
          ]
        },
        {
          "name": "stderr",
          "output_type": "stream",
          "text": [
            "\r 25%|██▌       | 50/200 [29:22<1:27:22, 34.95s/it]"
          ]
        },
        {
          "name": "stdout",
          "output_type": "stream",
          "text": [
            "Test Accuracy after Epoch 50: 73.03%\n",
            "Epoch [51/200] Training Loss: 0.28536108212397837, Training Accuracy: 90.148%\n"
          ]
        },
        {
          "name": "stderr",
          "output_type": "stream",
          "text": [
            "\r 26%|██▌       | 51/200 [29:57<1:26:51, 34.97s/it]"
          ]
        },
        {
          "name": "stdout",
          "output_type": "stream",
          "text": [
            "Test Accuracy after Epoch 51: 87.39%\n",
            "Epoch [52/200] Training Loss: 0.24593523577274873, Training Accuracy: 91.48%\n"
          ]
        },
        {
          "name": "stderr",
          "output_type": "stream",
          "text": [
            "\r 26%|██▌       | 52/200 [30:32<1:26:07, 34.91s/it]"
          ]
        },
        {
          "name": "stdout",
          "output_type": "stream",
          "text": [
            "Test Accuracy after Epoch 52: 87.74%\n",
            "Epoch [53/200] Training Loss: 0.2291610679967934, Training Accuracy: 92.046%\n"
          ]
        },
        {
          "name": "stderr",
          "output_type": "stream",
          "text": [
            "\r 26%|██▋       | 53/200 [31:07<1:25:32, 34.92s/it]"
          ]
        },
        {
          "name": "stdout",
          "output_type": "stream",
          "text": [
            "Test Accuracy after Epoch 53: 87.84%\n",
            "Epoch [54/200] Training Loss: 0.22483758925629393, Training Accuracy: 92.31%\n"
          ]
        },
        {
          "name": "stderr",
          "output_type": "stream",
          "text": [
            "\r 27%|██▋       | 54/200 [31:42<1:24:58, 34.92s/it]"
          ]
        },
        {
          "name": "stdout",
          "output_type": "stream",
          "text": [
            "Test Accuracy after Epoch 54: 88.19%\n",
            "Epoch [55/200] Training Loss: 0.21424936945252407, Training Accuracy: 92.582%\n"
          ]
        },
        {
          "name": "stderr",
          "output_type": "stream",
          "text": [
            "\r 28%|██▊       | 55/200 [32:17<1:24:16, 34.88s/it]"
          ]
        },
        {
          "name": "stdout",
          "output_type": "stream",
          "text": [
            "Test Accuracy after Epoch 55: 88.05%\n",
            "Epoch [56/200] Training Loss: 0.20946096251611515, Training Accuracy: 92.79%\n"
          ]
        },
        {
          "name": "stderr",
          "output_type": "stream",
          "text": [
            "\r 28%|██▊       | 56/200 [32:51<1:23:35, 34.83s/it]"
          ]
        },
        {
          "name": "stdout",
          "output_type": "stream",
          "text": [
            "Test Accuracy after Epoch 56: 88.48%\n",
            "Epoch [57/200] Training Loss: 0.20309059885914063, Training Accuracy: 92.918%\n"
          ]
        },
        {
          "name": "stderr",
          "output_type": "stream",
          "text": [
            "\r 28%|██▊       | 57/200 [33:26<1:23:03, 34.85s/it]"
          ]
        },
        {
          "name": "stdout",
          "output_type": "stream",
          "text": [
            "Test Accuracy after Epoch 57: 88.34%\n",
            "Epoch [58/200] Training Loss: 0.1982869803714935, Training Accuracy: 93.026%\n"
          ]
        },
        {
          "name": "stderr",
          "output_type": "stream",
          "text": [
            "\r 29%|██▉       | 58/200 [34:01<1:22:21, 34.80s/it]"
          ]
        },
        {
          "name": "stdout",
          "output_type": "stream",
          "text": [
            "Test Accuracy after Epoch 58: 88.27%\n",
            "Epoch [59/200] Training Loss: 0.1975238294057224, Training Accuracy: 93.16%\n"
          ]
        },
        {
          "name": "stderr",
          "output_type": "stream",
          "text": [
            "\r 30%|██▉       | 59/200 [34:36<1:22:00, 34.89s/it]"
          ]
        },
        {
          "name": "stdout",
          "output_type": "stream",
          "text": [
            "Test Accuracy after Epoch 59: 88.34%\n",
            "Epoch [60/200] Training Loss: 0.1916142035361446, Training Accuracy: 93.336%\n"
          ]
        },
        {
          "name": "stderr",
          "output_type": "stream",
          "text": [
            "\r 30%|███       | 60/200 [35:11<1:21:23, 34.89s/it]"
          ]
        },
        {
          "name": "stdout",
          "output_type": "stream",
          "text": [
            "Test Accuracy after Epoch 60: 88.47%\n",
            "Epoch [61/200] Training Loss: 0.18552119239135775, Training Accuracy: 93.486%\n"
          ]
        },
        {
          "name": "stderr",
          "output_type": "stream",
          "text": [
            "\r 30%|███       | 61/200 [35:46<1:20:49, 34.89s/it]"
          ]
        },
        {
          "name": "stdout",
          "output_type": "stream",
          "text": [
            "Test Accuracy after Epoch 61: 88.52%\n",
            "Epoch [62/200] Training Loss: 0.1814537995382953, Training Accuracy: 93.608%\n"
          ]
        },
        {
          "name": "stderr",
          "output_type": "stream",
          "text": [
            "\r 31%|███       | 62/200 [36:21<1:20:13, 34.88s/it]"
          ]
        },
        {
          "name": "stdout",
          "output_type": "stream",
          "text": [
            "Test Accuracy after Epoch 62: 88.03%\n",
            "Epoch [63/200] Training Loss: 0.18115074221816513, Training Accuracy: 93.608%\n"
          ]
        },
        {
          "name": "stderr",
          "output_type": "stream",
          "text": [
            "\r 32%|███▏      | 63/200 [36:56<1:19:34, 34.85s/it]"
          ]
        },
        {
          "name": "stdout",
          "output_type": "stream",
          "text": [
            "Test Accuracy after Epoch 63: 88.23%\n",
            "Epoch [64/200] Training Loss: 0.17618192478900066, Training Accuracy: 93.832%\n"
          ]
        },
        {
          "name": "stderr",
          "output_type": "stream",
          "text": [
            "\r 32%|███▏      | 64/200 [37:30<1:18:51, 34.79s/it]"
          ]
        },
        {
          "name": "stdout",
          "output_type": "stream",
          "text": [
            "Test Accuracy after Epoch 64: 88.32%\n",
            "Epoch [65/200] Training Loss: 0.17322219851071877, Training Accuracy: 93.84%\n"
          ]
        },
        {
          "name": "stderr",
          "output_type": "stream",
          "text": [
            "\r 32%|███▎      | 65/200 [38:05<1:18:17, 34.79s/it]"
          ]
        },
        {
          "name": "stdout",
          "output_type": "stream",
          "text": [
            "Test Accuracy after Epoch 65: 88.2%\n",
            "Epoch [66/200] Training Loss: 0.1719079232867569, Training Accuracy: 93.946%\n"
          ]
        },
        {
          "name": "stderr",
          "output_type": "stream",
          "text": [
            "\r 33%|███▎      | 66/200 [38:40<1:17:41, 34.79s/it]"
          ]
        },
        {
          "name": "stdout",
          "output_type": "stream",
          "text": [
            "Test Accuracy after Epoch 66: 88.63%\n",
            "Epoch [67/200] Training Loss: 0.16581883607313153, Training Accuracy: 94.09%\n"
          ]
        },
        {
          "name": "stderr",
          "output_type": "stream",
          "text": [
            "\r 34%|███▎      | 67/200 [39:15<1:17:09, 34.81s/it]"
          ]
        },
        {
          "name": "stdout",
          "output_type": "stream",
          "text": [
            "Test Accuracy after Epoch 67: 88.61%\n",
            "Epoch [68/200] Training Loss: 0.16755774944944454, Training Accuracy: 93.924%\n"
          ]
        },
        {
          "name": "stderr",
          "output_type": "stream",
          "text": [
            "\r 34%|███▍      | 68/200 [39:49<1:16:33, 34.80s/it]"
          ]
        },
        {
          "name": "stdout",
          "output_type": "stream",
          "text": [
            "Test Accuracy after Epoch 68: 88.42%\n",
            "Epoch [69/200] Training Loss: 0.16219399376865237, Training Accuracy: 94.332%\n"
          ]
        },
        {
          "name": "stderr",
          "output_type": "stream",
          "text": [
            "\r 34%|███▍      | 69/200 [40:24<1:15:47, 34.71s/it]"
          ]
        },
        {
          "name": "stdout",
          "output_type": "stream",
          "text": [
            "Test Accuracy after Epoch 69: 88.52%\n",
            "Epoch [70/200] Training Loss: 0.1633301193604384, Training Accuracy: 94.27%\n"
          ]
        },
        {
          "name": "stderr",
          "output_type": "stream",
          "text": [
            "\r 35%|███▌      | 70/200 [40:59<1:15:09, 34.69s/it]"
          ]
        },
        {
          "name": "stdout",
          "output_type": "stream",
          "text": [
            "Test Accuracy after Epoch 70: 88.57%\n",
            "Epoch [71/200] Training Loss: 0.16093295803079216, Training Accuracy: 94.348%\n"
          ]
        },
        {
          "name": "stderr",
          "output_type": "stream",
          "text": [
            "\r 36%|███▌      | 71/200 [41:34<1:14:46, 34.78s/it]"
          ]
        },
        {
          "name": "stdout",
          "output_type": "stream",
          "text": [
            "Test Accuracy after Epoch 71: 88.51%\n",
            "Epoch [72/200] Training Loss: 0.15646837922313328, Training Accuracy: 94.43%\n"
          ]
        },
        {
          "name": "stderr",
          "output_type": "stream",
          "text": [
            "\r 36%|███▌      | 72/200 [42:09<1:14:18, 34.83s/it]"
          ]
        },
        {
          "name": "stdout",
          "output_type": "stream",
          "text": [
            "Test Accuracy after Epoch 72: 88.5%\n",
            "Epoch [73/200] Training Loss: 0.15808306642048195, Training Accuracy: 94.324%\n"
          ]
        },
        {
          "name": "stderr",
          "output_type": "stream",
          "text": [
            "\r 36%|███▋      | 73/200 [42:44<1:13:52, 34.90s/it]"
          ]
        },
        {
          "name": "stdout",
          "output_type": "stream",
          "text": [
            "Test Accuracy after Epoch 73: 88.58%\n",
            "Epoch [74/200] Training Loss: 0.15184040196106563, Training Accuracy: 94.732%\n"
          ]
        },
        {
          "name": "stderr",
          "output_type": "stream",
          "text": [
            "\r 37%|███▋      | 74/200 [43:18<1:13:13, 34.87s/it]"
          ]
        },
        {
          "name": "stdout",
          "output_type": "stream",
          "text": [
            "Test Accuracy after Epoch 74: 88.06%\n",
            "Epoch [75/200] Training Loss: 0.1516114840822299, Training Accuracy: 94.67%\n"
          ]
        },
        {
          "name": "stderr",
          "output_type": "stream",
          "text": [
            "\r 38%|███▊      | 75/200 [43:53<1:12:32, 34.82s/it]"
          ]
        },
        {
          "name": "stdout",
          "output_type": "stream",
          "text": [
            "Test Accuracy after Epoch 75: 88.44%\n",
            "Epoch [76/200] Training Loss: 0.14775250184223476, Training Accuracy: 94.7%\n"
          ]
        },
        {
          "name": "stderr",
          "output_type": "stream",
          "text": [
            "\r 38%|███▊      | 76/200 [44:28<1:11:59, 34.84s/it]"
          ]
        },
        {
          "name": "stdout",
          "output_type": "stream",
          "text": [
            "Test Accuracy after Epoch 76: 88.5%\n",
            "Epoch [77/200] Training Loss: 0.14911267323338467, Training Accuracy: 94.664%\n"
          ]
        },
        {
          "name": "stderr",
          "output_type": "stream",
          "text": [
            "\r 38%|███▊      | 77/200 [45:03<1:11:33, 34.91s/it]"
          ]
        },
        {
          "name": "stdout",
          "output_type": "stream",
          "text": [
            "Test Accuracy after Epoch 77: 88.44%\n",
            "Epoch [78/200] Training Loss: 0.1457178435190712, Training Accuracy: 94.928%\n"
          ]
        },
        {
          "name": "stderr",
          "output_type": "stream",
          "text": [
            "\r 39%|███▉      | 78/200 [45:38<1:11:04, 34.96s/it]"
          ]
        },
        {
          "name": "stdout",
          "output_type": "stream",
          "text": [
            "Test Accuracy after Epoch 78: 88.28%\n",
            "Epoch [79/200] Training Loss: 0.14187168615782048, Training Accuracy: 94.998%\n"
          ]
        },
        {
          "name": "stderr",
          "output_type": "stream",
          "text": [
            "\r 40%|███▉      | 79/200 [46:13<1:10:20, 34.88s/it]"
          ]
        },
        {
          "name": "stdout",
          "output_type": "stream",
          "text": [
            "Test Accuracy after Epoch 79: 88.51%\n",
            "Epoch [80/200] Training Loss: 0.14226751791699158, Training Accuracy: 94.978%\n"
          ]
        },
        {
          "name": "stderr",
          "output_type": "stream",
          "text": [
            "\r 40%|████      | 80/200 [46:47<1:09:38, 34.82s/it]"
          ]
        },
        {
          "name": "stdout",
          "output_type": "stream",
          "text": [
            "Test Accuracy after Epoch 80: 88.33%\n",
            "Epoch [81/200] Training Loss: 0.14426099860569094, Training Accuracy: 94.94%\n"
          ]
        },
        {
          "name": "stderr",
          "output_type": "stream",
          "text": [
            "\r 40%|████      | 81/200 [47:22<1:09:05, 34.84s/it]"
          ]
        },
        {
          "name": "stdout",
          "output_type": "stream",
          "text": [
            "Test Accuracy after Epoch 81: 88.17%\n",
            "Epoch [82/200] Training Loss: 0.13895354297040674, Training Accuracy: 95.03%\n"
          ]
        },
        {
          "name": "stderr",
          "output_type": "stream",
          "text": [
            "\r 41%|████      | 82/200 [47:57<1:08:31, 34.85s/it]"
          ]
        },
        {
          "name": "stdout",
          "output_type": "stream",
          "text": [
            "Test Accuracy after Epoch 82: 88.44%\n",
            "Epoch [83/200] Training Loss: 0.13771824213816686, Training Accuracy: 95.092%\n"
          ]
        },
        {
          "name": "stderr",
          "output_type": "stream",
          "text": [
            "\r 42%|████▏     | 83/200 [48:32<1:07:54, 34.82s/it]"
          ]
        },
        {
          "name": "stdout",
          "output_type": "stream",
          "text": [
            "Test Accuracy after Epoch 83: 88.48%\n",
            "Epoch [84/200] Training Loss: 0.13665111341020642, Training Accuracy: 95.162%\n"
          ]
        },
        {
          "name": "stderr",
          "output_type": "stream",
          "text": [
            "\r 42%|████▏     | 84/200 [49:07<1:07:14, 34.78s/it]"
          ]
        },
        {
          "name": "stdout",
          "output_type": "stream",
          "text": [
            "Test Accuracy after Epoch 84: 88.23%\n",
            "Epoch [85/200] Training Loss: 0.1317047380920871, Training Accuracy: 95.308%\n"
          ]
        },
        {
          "name": "stderr",
          "output_type": "stream",
          "text": [
            "\r 42%|████▎     | 85/200 [49:41<1:06:32, 34.72s/it]"
          ]
        },
        {
          "name": "stdout",
          "output_type": "stream",
          "text": [
            "Test Accuracy after Epoch 85: 88.12%\n",
            "Epoch [86/200] Training Loss: 0.1321050664100348, Training Accuracy: 95.246%\n"
          ]
        },
        {
          "name": "stderr",
          "output_type": "stream",
          "text": [
            "\r 43%|████▎     | 86/200 [50:16<1:06:05, 34.78s/it]"
          ]
        },
        {
          "name": "stdout",
          "output_type": "stream",
          "text": [
            "Test Accuracy after Epoch 86: 88.45%\n",
            "Epoch [87/200] Training Loss: 0.13292577859881283, Training Accuracy: 95.354%\n"
          ]
        },
        {
          "name": "stderr",
          "output_type": "stream",
          "text": [
            "\r 44%|████▎     | 87/200 [50:51<1:05:19, 34.68s/it]"
          ]
        },
        {
          "name": "stdout",
          "output_type": "stream",
          "text": [
            "Test Accuracy after Epoch 87: 88.37%\n",
            "Epoch [88/200] Training Loss: 0.128370892051655, Training Accuracy: 95.36%\n"
          ]
        },
        {
          "name": "stderr",
          "output_type": "stream",
          "text": [
            "\r 44%|████▍     | 88/200 [51:25<1:04:44, 34.68s/it]"
          ]
        },
        {
          "name": "stdout",
          "output_type": "stream",
          "text": [
            "Test Accuracy after Epoch 88: 88.1%\n",
            "Epoch [89/200] Training Loss: 0.12893474019130172, Training Accuracy: 95.354%\n"
          ]
        },
        {
          "name": "stderr",
          "output_type": "stream",
          "text": [
            "\r 44%|████▍     | 89/200 [52:00<1:04:13, 34.72s/it]"
          ]
        },
        {
          "name": "stdout",
          "output_type": "stream",
          "text": [
            "Test Accuracy after Epoch 89: 88.18%\n",
            "Epoch [90/200] Training Loss: 0.1265433055856039, Training Accuracy: 95.494%\n"
          ]
        },
        {
          "name": "stderr",
          "output_type": "stream",
          "text": [
            "\r 45%|████▌     | 90/200 [52:35<1:03:39, 34.72s/it]"
          ]
        },
        {
          "name": "stdout",
          "output_type": "stream",
          "text": [
            "Test Accuracy after Epoch 90: 88.36%\n",
            "Epoch [91/200] Training Loss: 0.12887862364730568, Training Accuracy: 95.388%\n"
          ]
        },
        {
          "name": "stderr",
          "output_type": "stream",
          "text": [
            "\r 46%|████▌     | 91/200 [53:10<1:03:26, 34.92s/it]"
          ]
        },
        {
          "name": "stdout",
          "output_type": "stream",
          "text": [
            "Test Accuracy after Epoch 91: 88.42%\n",
            "Epoch [92/200] Training Loss: 0.1292945094825819, Training Accuracy: 95.336%\n"
          ]
        },
        {
          "name": "stderr",
          "output_type": "stream",
          "text": [
            "\r 46%|████▌     | 92/200 [53:46<1:03:21, 35.20s/it]"
          ]
        },
        {
          "name": "stdout",
          "output_type": "stream",
          "text": [
            "Test Accuracy after Epoch 92: 88.3%\n",
            "Epoch [93/200] Training Loss: 0.1269365500973161, Training Accuracy: 95.432%\n"
          ]
        },
        {
          "name": "stderr",
          "output_type": "stream",
          "text": [
            "\r 46%|████▋     | 93/200 [54:22<1:03:03, 35.36s/it]"
          ]
        },
        {
          "name": "stdout",
          "output_type": "stream",
          "text": [
            "Test Accuracy after Epoch 93: 87.92%\n",
            "Epoch [94/200] Training Loss: 0.12380997048657569, Training Accuracy: 95.524%\n"
          ]
        },
        {
          "name": "stderr",
          "output_type": "stream",
          "text": [
            "\r 47%|████▋     | 94/200 [54:57<1:02:26, 35.35s/it]"
          ]
        },
        {
          "name": "stdout",
          "output_type": "stream",
          "text": [
            "Test Accuracy after Epoch 94: 87.9%\n",
            "Epoch [95/200] Training Loss: 0.12830138233159205, Training Accuracy: 95.364%\n"
          ]
        },
        {
          "name": "stderr",
          "output_type": "stream",
          "text": [
            "\r 48%|████▊     | 95/200 [55:32<1:01:41, 35.26s/it]"
          ]
        },
        {
          "name": "stdout",
          "output_type": "stream",
          "text": [
            "Test Accuracy after Epoch 95: 88.32%\n",
            "Epoch [96/200] Training Loss: 0.11803443288273366, Training Accuracy: 95.804%\n"
          ]
        },
        {
          "name": "stderr",
          "output_type": "stream",
          "text": [
            "\r 48%|████▊     | 96/200 [56:07<1:00:53, 35.13s/it]"
          ]
        },
        {
          "name": "stdout",
          "output_type": "stream",
          "text": [
            "Test Accuracy after Epoch 96: 88.39%\n",
            "Epoch [97/200] Training Loss: 0.11912139236469708, Training Accuracy: 95.81%\n"
          ]
        },
        {
          "name": "stderr",
          "output_type": "stream",
          "text": [
            "\r 48%|████▊     | 97/200 [56:42<1:00:04, 35.00s/it]"
          ]
        },
        {
          "name": "stdout",
          "output_type": "stream",
          "text": [
            "Test Accuracy after Epoch 97: 88.25%\n",
            "Epoch [98/200] Training Loss: 0.1184899968373806, Training Accuracy: 95.722%\n"
          ]
        },
        {
          "name": "stderr",
          "output_type": "stream",
          "text": [
            "\r 49%|████▉     | 98/200 [57:17<59:30, 35.01s/it]  "
          ]
        },
        {
          "name": "stdout",
          "output_type": "stream",
          "text": [
            "Test Accuracy after Epoch 98: 88.6%\n",
            "Epoch [99/200] Training Loss: 0.11960587562883601, Training Accuracy: 95.654%\n"
          ]
        },
        {
          "name": "stderr",
          "output_type": "stream",
          "text": [
            "\r 50%|████▉     | 99/200 [57:51<58:41, 34.86s/it]"
          ]
        },
        {
          "name": "stdout",
          "output_type": "stream",
          "text": [
            "Test Accuracy after Epoch 99: 88.26%\n",
            "Epoch [100/200] Training Loss: 0.11684091120501004, Training Accuracy: 95.898%\n"
          ]
        },
        {
          "name": "stderr",
          "output_type": "stream",
          "text": [
            "\r 50%|█████     | 100/200 [58:26<58:08, 34.88s/it]"
          ]
        },
        {
          "name": "stdout",
          "output_type": "stream",
          "text": [
            "Test Accuracy after Epoch 100: 87.33%\n",
            "Epoch [101/200] Training Loss: 0.0983637502021573, Training Accuracy: 96.524%\n"
          ]
        },
        {
          "name": "stderr",
          "output_type": "stream",
          "text": [
            "\r 50%|█████     | 101/200 [59:01<57:28, 34.83s/it]"
          ]
        },
        {
          "name": "stdout",
          "output_type": "stream",
          "text": [
            "Test Accuracy after Epoch 101: 89.2%\n",
            "Epoch [102/200] Training Loss: 0.08994030352215023, Training Accuracy: 96.81%\n"
          ]
        },
        {
          "name": "stderr",
          "output_type": "stream",
          "text": [
            "\r 51%|█████     | 102/200 [59:36<57:02, 34.92s/it]"
          ]
        },
        {
          "name": "stdout",
          "output_type": "stream",
          "text": [
            "Test Accuracy after Epoch 102: 89.36%\n",
            "Epoch [103/200] Training Loss: 0.08458452208725083, Training Accuracy: 97.068%\n"
          ]
        },
        {
          "name": "stderr",
          "output_type": "stream",
          "text": [
            "\r 52%|█████▏    | 103/200 [1:00:11<56:30, 34.95s/it]"
          ]
        },
        {
          "name": "stdout",
          "output_type": "stream",
          "text": [
            "Test Accuracy after Epoch 103: 89.11%\n",
            "Epoch [104/200] Training Loss: 0.0856975556572761, Training Accuracy: 97.018%\n"
          ]
        },
        {
          "name": "stderr",
          "output_type": "stream",
          "text": [
            "\r 52%|█████▏    | 104/200 [1:00:47<56:10, 35.11s/it]"
          ]
        },
        {
          "name": "stdout",
          "output_type": "stream",
          "text": [
            "Test Accuracy after Epoch 104: 88.95%\n",
            "Epoch [105/200] Training Loss: 0.08269179876788955, Training Accuracy: 97.144%\n"
          ]
        },
        {
          "name": "stderr",
          "output_type": "stream",
          "text": [
            "\r 52%|█████▎    | 105/200 [1:01:22<55:34, 35.10s/it]"
          ]
        },
        {
          "name": "stdout",
          "output_type": "stream",
          "text": [
            "Test Accuracy after Epoch 105: 89.4%\n",
            "Epoch [106/200] Training Loss: 0.08252879242648554, Training Accuracy: 97.078%\n"
          ]
        },
        {
          "name": "stderr",
          "output_type": "stream",
          "text": [
            "\r 53%|█████▎    | 106/200 [1:01:57<54:56, 35.07s/it]"
          ]
        },
        {
          "name": "stdout",
          "output_type": "stream",
          "text": [
            "Test Accuracy after Epoch 106: 88.72%\n",
            "Epoch [107/200] Training Loss: 0.07957712796223743, Training Accuracy: 97.258%\n"
          ]
        },
        {
          "name": "stderr",
          "output_type": "stream",
          "text": [
            "\r 54%|█████▎    | 107/200 [1:02:32<54:22, 35.08s/it]"
          ]
        },
        {
          "name": "stdout",
          "output_type": "stream",
          "text": [
            "Test Accuracy after Epoch 107: 89.16%\n",
            "Epoch [108/200] Training Loss: 0.08160179886309539, Training Accuracy: 97.074%\n"
          ]
        },
        {
          "name": "stderr",
          "output_type": "stream",
          "text": [
            "\r 54%|█████▍    | 108/200 [1:03:07<53:48, 35.09s/it]"
          ]
        },
        {
          "name": "stdout",
          "output_type": "stream",
          "text": [
            "Test Accuracy after Epoch 108: 88.86%\n",
            "Epoch [109/200] Training Loss: 0.07716775077688115, Training Accuracy: 97.294%\n"
          ]
        },
        {
          "name": "stderr",
          "output_type": "stream",
          "text": [
            "\r 55%|█████▍    | 109/200 [1:03:42<53:15, 35.12s/it]"
          ]
        },
        {
          "name": "stdout",
          "output_type": "stream",
          "text": [
            "Test Accuracy after Epoch 109: 89.22%\n",
            "Epoch [110/200] Training Loss: 0.07802404389928674, Training Accuracy: 97.252%\n"
          ]
        },
        {
          "name": "stderr",
          "output_type": "stream",
          "text": [
            "\r 55%|█████▌    | 110/200 [1:04:17<52:34, 35.05s/it]"
          ]
        },
        {
          "name": "stdout",
          "output_type": "stream",
          "text": [
            "Test Accuracy after Epoch 110: 88.86%\n",
            "Epoch [111/200] Training Loss: 0.07994658104560869, Training Accuracy: 97.146%\n"
          ]
        },
        {
          "name": "stderr",
          "output_type": "stream",
          "text": [
            "\r 56%|█████▌    | 111/200 [1:04:52<51:52, 34.97s/it]"
          ]
        },
        {
          "name": "stdout",
          "output_type": "stream",
          "text": [
            "Test Accuracy after Epoch 111: 88.45%\n",
            "Epoch [112/200] Training Loss: 0.07726790768849423, Training Accuracy: 97.208%\n"
          ]
        },
        {
          "name": "stderr",
          "output_type": "stream",
          "text": [
            "\r 56%|█████▌    | 112/200 [1:05:26<51:12, 34.91s/it]"
          ]
        },
        {
          "name": "stdout",
          "output_type": "stream",
          "text": [
            "Test Accuracy after Epoch 112: 89.14%\n",
            "Epoch [113/200] Training Loss: 0.07602389192070498, Training Accuracy: 97.294%\n"
          ]
        },
        {
          "name": "stderr",
          "output_type": "stream",
          "text": [
            "\r 56%|█████▋    | 113/200 [1:06:01<50:35, 34.90s/it]"
          ]
        },
        {
          "name": "stdout",
          "output_type": "stream",
          "text": [
            "Test Accuracy after Epoch 113: 88.75%\n",
            "Epoch [114/200] Training Loss: 0.0751923581280405, Training Accuracy: 97.36%\n"
          ]
        },
        {
          "name": "stderr",
          "output_type": "stream",
          "text": [
            "\r 57%|█████▋    | 114/200 [1:06:36<50:03, 34.92s/it]"
          ]
        },
        {
          "name": "stdout",
          "output_type": "stream",
          "text": [
            "Test Accuracy after Epoch 114: 88.89%\n",
            "Epoch [115/200] Training Loss: 0.07455677673687487, Training Accuracy: 97.41%\n"
          ]
        },
        {
          "name": "stderr",
          "output_type": "stream",
          "text": [
            "\r 57%|█████▊    | 115/200 [1:07:12<49:44, 35.11s/it]"
          ]
        },
        {
          "name": "stdout",
          "output_type": "stream",
          "text": [
            "Test Accuracy after Epoch 115: 89.14%\n",
            "Epoch [116/200] Training Loss: 0.07666628293292907, Training Accuracy: 97.296%\n"
          ]
        },
        {
          "name": "stderr",
          "output_type": "stream",
          "text": [
            "\r 58%|█████▊    | 116/200 [1:07:48<49:23, 35.28s/it]"
          ]
        },
        {
          "name": "stdout",
          "output_type": "stream",
          "text": [
            "Test Accuracy after Epoch 116: 89.33%\n",
            "Epoch [117/200] Training Loss: 0.07368529525578327, Training Accuracy: 97.388%\n"
          ]
        },
        {
          "name": "stderr",
          "output_type": "stream",
          "text": [
            "\r 58%|█████▊    | 117/200 [1:08:23<48:47, 35.27s/it]"
          ]
        },
        {
          "name": "stdout",
          "output_type": "stream",
          "text": [
            "Test Accuracy after Epoch 117: 88.84%\n",
            "Epoch [118/200] Training Loss: 0.07428966891354002, Training Accuracy: 97.368%\n"
          ]
        },
        {
          "name": "stderr",
          "output_type": "stream",
          "text": [
            "\r 59%|█████▉    | 118/200 [1:08:58<48:17, 35.33s/it]"
          ]
        },
        {
          "name": "stdout",
          "output_type": "stream",
          "text": [
            "Test Accuracy after Epoch 118: 88.97%\n",
            "Epoch [119/200] Training Loss: 0.07347636867333632, Training Accuracy: 97.334%\n"
          ]
        },
        {
          "name": "stderr",
          "output_type": "stream",
          "text": [
            "\r 60%|█████▉    | 119/200 [1:09:33<47:35, 35.25s/it]"
          ]
        },
        {
          "name": "stdout",
          "output_type": "stream",
          "text": [
            "Test Accuracy after Epoch 119: 88.76%\n",
            "Epoch [120/200] Training Loss: 0.07389938329939572, Training Accuracy: 97.382%\n"
          ]
        },
        {
          "name": "stderr",
          "output_type": "stream",
          "text": [
            "\r 60%|██████    | 120/200 [1:10:09<47:01, 35.27s/it]"
          ]
        },
        {
          "name": "stdout",
          "output_type": "stream",
          "text": [
            "Test Accuracy after Epoch 120: 89.44%\n",
            "Epoch [121/200] Training Loss: 0.07329564806921861, Training Accuracy: 97.38%\n"
          ]
        },
        {
          "name": "stderr",
          "output_type": "stream",
          "text": [
            "\r 60%|██████    | 121/200 [1:10:44<46:21, 35.21s/it]"
          ]
        },
        {
          "name": "stdout",
          "output_type": "stream",
          "text": [
            "Test Accuracy after Epoch 121: 89.23%\n",
            "Epoch [122/200] Training Loss: 0.07299016186457766, Training Accuracy: 97.506%\n"
          ]
        },
        {
          "name": "stderr",
          "output_type": "stream",
          "text": [
            "\r 61%|██████    | 122/200 [1:11:19<45:50, 35.26s/it]"
          ]
        },
        {
          "name": "stdout",
          "output_type": "stream",
          "text": [
            "Test Accuracy after Epoch 122: 89.11%\n",
            "Epoch [123/200] Training Loss: 0.07014277859893449, Training Accuracy: 97.556%\n"
          ]
        },
        {
          "name": "stderr",
          "output_type": "stream",
          "text": [
            "\r 62%|██████▏   | 123/200 [1:11:54<45:04, 35.12s/it]"
          ]
        },
        {
          "name": "stdout",
          "output_type": "stream",
          "text": [
            "Test Accuracy after Epoch 123: 88.87%\n",
            "Epoch [124/200] Training Loss: 0.072034524937096, Training Accuracy: 97.456%\n"
          ]
        },
        {
          "name": "stderr",
          "output_type": "stream",
          "text": [
            "\r 62%|██████▏   | 124/200 [1:12:29<44:31, 35.16s/it]"
          ]
        },
        {
          "name": "stdout",
          "output_type": "stream",
          "text": [
            "Test Accuracy after Epoch 124: 88.88%\n",
            "Epoch [125/200] Training Loss: 0.0717570969901617, Training Accuracy: 97.526%\n"
          ]
        },
        {
          "name": "stderr",
          "output_type": "stream",
          "text": [
            "\r 62%|██████▎   | 125/200 [1:13:04<43:53, 35.11s/it]"
          ]
        },
        {
          "name": "stdout",
          "output_type": "stream",
          "text": [
            "Test Accuracy after Epoch 125: 88.77%\n",
            "Epoch [126/200] Training Loss: 0.07154797381052123, Training Accuracy: 97.494%\n"
          ]
        },
        {
          "name": "stderr",
          "output_type": "stream",
          "text": [
            "\r 63%|██████▎   | 126/200 [1:13:39<43:12, 35.03s/it]"
          ]
        },
        {
          "name": "stdout",
          "output_type": "stream",
          "text": [
            "Test Accuracy after Epoch 126: 88.81%\n",
            "Epoch [127/200] Training Loss: 0.07089385777340292, Training Accuracy: 97.522%\n"
          ]
        },
        {
          "name": "stderr",
          "output_type": "stream",
          "text": [
            "\r 64%|██████▎   | 127/200 [1:14:14<42:39, 35.07s/it]"
          ]
        },
        {
          "name": "stdout",
          "output_type": "stream",
          "text": [
            "Test Accuracy after Epoch 127: 88.87%\n",
            "Epoch [128/200] Training Loss: 0.07032062333610738, Training Accuracy: 97.474%\n"
          ]
        },
        {
          "name": "stderr",
          "output_type": "stream",
          "text": [
            "\r 64%|██████▍   | 128/200 [1:14:50<42:17, 35.24s/it]"
          ]
        },
        {
          "name": "stdout",
          "output_type": "stream",
          "text": [
            "Test Accuracy after Epoch 128: 89.0%\n",
            "Epoch [129/200] Training Loss: 0.07040758525519192, Training Accuracy: 97.462%\n"
          ]
        },
        {
          "name": "stderr",
          "output_type": "stream",
          "text": [
            "\r 64%|██████▍   | 129/200 [1:15:25<41:37, 35.18s/it]"
          ]
        },
        {
          "name": "stdout",
          "output_type": "stream",
          "text": [
            "Test Accuracy after Epoch 129: 88.91%\n",
            "Epoch [130/200] Training Loss: 0.07004869740237207, Training Accuracy: 97.584%\n"
          ]
        },
        {
          "name": "stderr",
          "output_type": "stream",
          "text": [
            "\r 65%|██████▌   | 130/200 [1:16:00<41:01, 35.17s/it]"
          ]
        },
        {
          "name": "stdout",
          "output_type": "stream",
          "text": [
            "Test Accuracy after Epoch 130: 89.0%\n",
            "Epoch [131/200] Training Loss: 0.06963424071850603, Training Accuracy: 97.556%\n"
          ]
        },
        {
          "name": "stderr",
          "output_type": "stream",
          "text": [
            "\r 66%|██████▌   | 131/200 [1:16:35<40:21, 35.09s/it]"
          ]
        },
        {
          "name": "stdout",
          "output_type": "stream",
          "text": [
            "Test Accuracy after Epoch 131: 88.69%\n",
            "Epoch [132/200] Training Loss: 0.06822156173455746, Training Accuracy: 97.548%\n"
          ]
        },
        {
          "name": "stderr",
          "output_type": "stream",
          "text": [
            "\r 66%|██████▌   | 132/200 [1:17:10<39:41, 35.02s/it]"
          ]
        },
        {
          "name": "stdout",
          "output_type": "stream",
          "text": [
            "Test Accuracy after Epoch 132: 89.38%\n",
            "Epoch [133/200] Training Loss: 0.07152136124175071, Training Accuracy: 97.482%\n"
          ]
        },
        {
          "name": "stderr",
          "output_type": "stream",
          "text": [
            "\r 66%|██████▋   | 133/200 [1:17:45<39:05, 35.00s/it]"
          ]
        },
        {
          "name": "stdout",
          "output_type": "stream",
          "text": [
            "Test Accuracy after Epoch 133: 88.76%\n",
            "Epoch [134/200] Training Loss: 0.06834444518694106, Training Accuracy: 97.524%\n"
          ]
        },
        {
          "name": "stderr",
          "output_type": "stream",
          "text": [
            "\r 67%|██████▋   | 134/200 [1:18:20<38:30, 35.00s/it]"
          ]
        },
        {
          "name": "stdout",
          "output_type": "stream",
          "text": [
            "Test Accuracy after Epoch 134: 88.97%\n",
            "Epoch [135/200] Training Loss: 0.06713971491936413, Training Accuracy: 97.61%\n"
          ]
        },
        {
          "name": "stderr",
          "output_type": "stream",
          "text": [
            "\r 68%|██████▊   | 135/200 [1:18:55<37:55, 35.01s/it]"
          ]
        },
        {
          "name": "stdout",
          "output_type": "stream",
          "text": [
            "Test Accuracy after Epoch 135: 88.92%\n",
            "Epoch [136/200] Training Loss: 0.06737620327764612, Training Accuracy: 97.644%\n"
          ]
        },
        {
          "name": "stderr",
          "output_type": "stream",
          "text": [
            "\r 68%|██████▊   | 136/200 [1:19:30<37:22, 35.04s/it]"
          ]
        },
        {
          "name": "stdout",
          "output_type": "stream",
          "text": [
            "Test Accuracy after Epoch 136: 89.08%\n",
            "Epoch [137/200] Training Loss: 0.06634730604165198, Training Accuracy: 97.642%\n"
          ]
        },
        {
          "name": "stderr",
          "output_type": "stream",
          "text": [
            "\r 68%|██████▊   | 137/200 [1:20:05<36:54, 35.15s/it]"
          ]
        },
        {
          "name": "stdout",
          "output_type": "stream",
          "text": [
            "Test Accuracy after Epoch 137: 88.59%\n",
            "Epoch [138/200] Training Loss: 0.067137014928281, Training Accuracy: 97.608%\n"
          ]
        },
        {
          "name": "stderr",
          "output_type": "stream",
          "text": [
            "\r 69%|██████▉   | 138/200 [1:20:40<36:20, 35.17s/it]"
          ]
        },
        {
          "name": "stdout",
          "output_type": "stream",
          "text": [
            "Test Accuracy after Epoch 138: 88.81%\n",
            "Epoch [139/200] Training Loss: 0.06718486453623265, Training Accuracy: 97.624%\n"
          ]
        },
        {
          "name": "stderr",
          "output_type": "stream",
          "text": [
            "\r 70%|██████▉   | 139/200 [1:21:15<35:43, 35.14s/it]"
          ]
        },
        {
          "name": "stdout",
          "output_type": "stream",
          "text": [
            "Test Accuracy after Epoch 139: 89.14%\n",
            "Epoch [140/200] Training Loss: 0.06648314714222156, Training Accuracy: 97.622%\n"
          ]
        },
        {
          "name": "stderr",
          "output_type": "stream",
          "text": [
            "\r 70%|███████   | 140/200 [1:21:50<35:03, 35.05s/it]"
          ]
        },
        {
          "name": "stdout",
          "output_type": "stream",
          "text": [
            "Test Accuracy after Epoch 140: 88.74%\n",
            "Epoch [141/200] Training Loss: 0.06671120878547201, Training Accuracy: 97.66%\n"
          ]
        },
        {
          "name": "stderr",
          "output_type": "stream",
          "text": [
            "\r 70%|███████   | 141/200 [1:22:26<34:31, 35.11s/it]"
          ]
        },
        {
          "name": "stdout",
          "output_type": "stream",
          "text": [
            "Test Accuracy after Epoch 141: 89.14%\n",
            "Epoch [142/200] Training Loss: 0.06481958906430646, Training Accuracy: 97.776%\n"
          ]
        },
        {
          "name": "stderr",
          "output_type": "stream",
          "text": [
            "\r 71%|███████   | 142/200 [1:23:01<33:55, 35.09s/it]"
          ]
        },
        {
          "name": "stdout",
          "output_type": "stream",
          "text": [
            "Test Accuracy after Epoch 142: 89.01%\n",
            "Epoch [143/200] Training Loss: 0.06264963451668125, Training Accuracy: 97.83%\n"
          ]
        },
        {
          "name": "stderr",
          "output_type": "stream",
          "text": [
            "\r 72%|███████▏  | 143/200 [1:23:36<33:23, 35.14s/it]"
          ]
        },
        {
          "name": "stdout",
          "output_type": "stream",
          "text": [
            "Test Accuracy after Epoch 143: 89.18%\n",
            "Epoch [144/200] Training Loss: 0.06306223126361742, Training Accuracy: 97.708%\n"
          ]
        },
        {
          "name": "stderr",
          "output_type": "stream",
          "text": [
            "\r 72%|███████▏  | 144/200 [1:24:11<32:48, 35.15s/it]"
          ]
        },
        {
          "name": "stdout",
          "output_type": "stream",
          "text": [
            "Test Accuracy after Epoch 144: 88.96%\n",
            "Epoch [145/200] Training Loss: 0.06384584312910771, Training Accuracy: 97.704%\n"
          ]
        },
        {
          "name": "stderr",
          "output_type": "stream",
          "text": [
            "\r 72%|███████▎  | 145/200 [1:24:46<32:14, 35.17s/it]"
          ]
        },
        {
          "name": "stdout",
          "output_type": "stream",
          "text": [
            "Test Accuracy after Epoch 145: 88.72%\n",
            "Epoch [146/200] Training Loss: 0.06518978202034292, Training Accuracy: 97.68%\n"
          ]
        },
        {
          "name": "stderr",
          "output_type": "stream",
          "text": [
            "\r 73%|███████▎  | 146/200 [1:25:21<31:39, 35.17s/it]"
          ]
        },
        {
          "name": "stdout",
          "output_type": "stream",
          "text": [
            "Test Accuracy after Epoch 146: 88.92%\n",
            "Epoch [147/200] Training Loss: 0.0637830042368387, Training Accuracy: 97.726%\n"
          ]
        },
        {
          "name": "stderr",
          "output_type": "stream",
          "text": [
            "\r 74%|███████▎  | 147/200 [1:25:57<31:04, 35.19s/it]"
          ]
        },
        {
          "name": "stdout",
          "output_type": "stream",
          "text": [
            "Test Accuracy after Epoch 147: 89.09%\n",
            "Epoch [148/200] Training Loss: 0.06130900990832454, Training Accuracy: 97.828%\n"
          ]
        },
        {
          "name": "stderr",
          "output_type": "stream",
          "text": [
            "\r 74%|███████▍  | 148/200 [1:26:32<30:30, 35.21s/it]"
          ]
        },
        {
          "name": "stdout",
          "output_type": "stream",
          "text": [
            "Test Accuracy after Epoch 148: 88.9%\n",
            "Epoch [149/200] Training Loss: 0.06289850214443853, Training Accuracy: 97.75%\n"
          ]
        },
        {
          "name": "stderr",
          "output_type": "stream",
          "text": [
            "\r 74%|███████▍  | 149/200 [1:27:07<29:50, 35.12s/it]"
          ]
        },
        {
          "name": "stdout",
          "output_type": "stream",
          "text": [
            "Test Accuracy after Epoch 149: 88.86%\n",
            "Epoch [150/200] Training Loss: 0.06459468350176463, Training Accuracy: 97.688%\n"
          ]
        },
        {
          "name": "stderr",
          "output_type": "stream",
          "text": [
            "\r 75%|███████▌  | 150/200 [1:27:42<29:14, 35.08s/it]"
          ]
        },
        {
          "name": "stdout",
          "output_type": "stream",
          "text": [
            "Test Accuracy after Epoch 150: 88.57%\n",
            "Epoch [151/200] Training Loss: 0.061672674777829437, Training Accuracy: 97.836%\n"
          ]
        },
        {
          "name": "stderr",
          "output_type": "stream",
          "text": [
            "\r 76%|███████▌  | 151/200 [1:28:17<28:34, 34.99s/it]"
          ]
        },
        {
          "name": "stdout",
          "output_type": "stream",
          "text": [
            "Test Accuracy after Epoch 151: 88.71%\n",
            "Epoch [152/200] Training Loss: 0.06263821515376153, Training Accuracy: 97.782%\n"
          ]
        },
        {
          "name": "stderr",
          "output_type": "stream",
          "text": [
            "\r 76%|███████▌  | 152/200 [1:28:52<28:03, 35.07s/it]"
          ]
        },
        {
          "name": "stdout",
          "output_type": "stream",
          "text": [
            "Test Accuracy after Epoch 152: 88.92%\n",
            "Epoch [153/200] Training Loss: 0.059763430998853555, Training Accuracy: 97.892%\n"
          ]
        },
        {
          "name": "stderr",
          "output_type": "stream",
          "text": [
            "\r 76%|███████▋  | 153/200 [1:29:27<27:23, 34.97s/it]"
          ]
        },
        {
          "name": "stdout",
          "output_type": "stream",
          "text": [
            "Test Accuracy after Epoch 153: 89.05%\n",
            "Epoch [154/200] Training Loss: 0.05923462175595029, Training Accuracy: 97.88%\n"
          ]
        },
        {
          "name": "stderr",
          "output_type": "stream",
          "text": [
            "\r 77%|███████▋  | 154/200 [1:30:02<26:50, 35.00s/it]"
          ]
        },
        {
          "name": "stdout",
          "output_type": "stream",
          "text": [
            "Test Accuracy after Epoch 154: 88.86%\n",
            "Epoch [155/200] Training Loss: 0.05887669124795348, Training Accuracy: 97.89%\n"
          ]
        },
        {
          "name": "stderr",
          "output_type": "stream",
          "text": [
            "\r 78%|███████▊  | 155/200 [1:30:37<26:17, 35.06s/it]"
          ]
        },
        {
          "name": "stdout",
          "output_type": "stream",
          "text": [
            "Test Accuracy after Epoch 155: 88.95%\n",
            "Epoch [156/200] Training Loss: 0.06101733922381954, Training Accuracy: 97.842%\n"
          ]
        },
        {
          "name": "stderr",
          "output_type": "stream",
          "text": [
            "\r 78%|███████▊  | 156/200 [1:31:12<25:42, 35.05s/it]"
          ]
        },
        {
          "name": "stdout",
          "output_type": "stream",
          "text": [
            "Test Accuracy after Epoch 156: 89.13%\n",
            "Epoch [157/200] Training Loss: 0.0600156152020673, Training Accuracy: 97.904%\n"
          ]
        },
        {
          "name": "stderr",
          "output_type": "stream",
          "text": [
            "\r 78%|███████▊  | 157/200 [1:31:47<25:06, 35.03s/it]"
          ]
        },
        {
          "name": "stdout",
          "output_type": "stream",
          "text": [
            "Test Accuracy after Epoch 157: 89.09%\n",
            "Epoch [158/200] Training Loss: 0.061343546559000414, Training Accuracy: 97.84%\n"
          ]
        },
        {
          "name": "stderr",
          "output_type": "stream",
          "text": [
            "\r 79%|███████▉  | 158/200 [1:32:22<24:29, 34.99s/it]"
          ]
        },
        {
          "name": "stdout",
          "output_type": "stream",
          "text": [
            "Test Accuracy after Epoch 158: 88.71%\n",
            "Epoch [159/200] Training Loss: 0.06044151550135039, Training Accuracy: 97.842%\n"
          ]
        },
        {
          "name": "stderr",
          "output_type": "stream",
          "text": [
            "\r 80%|███████▉  | 159/200 [1:32:57<23:53, 34.96s/it]"
          ]
        },
        {
          "name": "stdout",
          "output_type": "stream",
          "text": [
            "Test Accuracy after Epoch 159: 89.08%\n",
            "Epoch [160/200] Training Loss: 0.060433507603986185, Training Accuracy: 97.83%\n"
          ]
        },
        {
          "name": "stderr",
          "output_type": "stream",
          "text": [
            "\r 80%|████████  | 160/200 [1:33:31<23:16, 34.92s/it]"
          ]
        },
        {
          "name": "stdout",
          "output_type": "stream",
          "text": [
            "Test Accuracy after Epoch 160: 89.24%\n",
            "Epoch [161/200] Training Loss: 0.059561427330117094, Training Accuracy: 97.9%\n"
          ]
        },
        {
          "name": "stderr",
          "output_type": "stream",
          "text": [
            "\r 80%|████████  | 161/200 [1:34:06<22:41, 34.90s/it]"
          ]
        },
        {
          "name": "stdout",
          "output_type": "stream",
          "text": [
            "Test Accuracy after Epoch 161: 88.73%\n",
            "Epoch [162/200] Training Loss: 0.05890520612644913, Training Accuracy: 97.914%\n"
          ]
        },
        {
          "name": "stderr",
          "output_type": "stream",
          "text": [
            "\r 81%|████████  | 162/200 [1:34:42<22:09, 34.98s/it]"
          ]
        },
        {
          "name": "stdout",
          "output_type": "stream",
          "text": [
            "Test Accuracy after Epoch 162: 89.24%\n",
            "Epoch [163/200] Training Loss: 0.060607682168007354, Training Accuracy: 97.808%\n"
          ]
        },
        {
          "name": "stderr",
          "output_type": "stream",
          "text": [
            "\r 82%|████████▏ | 163/200 [1:35:16<21:31, 34.91s/it]"
          ]
        },
        {
          "name": "stdout",
          "output_type": "stream",
          "text": [
            "Test Accuracy after Epoch 163: 88.69%\n",
            "Epoch [164/200] Training Loss: 0.060997410293887645, Training Accuracy: 97.824%\n"
          ]
        },
        {
          "name": "stderr",
          "output_type": "stream",
          "text": [
            "\r 82%|████████▏ | 164/200 [1:35:51<20:55, 34.87s/it]"
          ]
        },
        {
          "name": "stdout",
          "output_type": "stream",
          "text": [
            "Test Accuracy after Epoch 164: 89.2%\n",
            "Epoch [165/200] Training Loss: 0.0597561224771049, Training Accuracy: 97.884%\n"
          ]
        },
        {
          "name": "stderr",
          "output_type": "stream",
          "text": [
            "\r 82%|████████▎ | 165/200 [1:36:26<20:20, 34.87s/it]"
          ]
        },
        {
          "name": "stdout",
          "output_type": "stream",
          "text": [
            "Test Accuracy after Epoch 165: 88.98%\n",
            "Epoch [166/200] Training Loss: 0.060478522611396086, Training Accuracy: 97.894%\n"
          ]
        },
        {
          "name": "stderr",
          "output_type": "stream",
          "text": [
            "\r 83%|████████▎ | 166/200 [1:37:01<19:45, 34.86s/it]"
          ]
        },
        {
          "name": "stdout",
          "output_type": "stream",
          "text": [
            "Test Accuracy after Epoch 166: 88.64%\n",
            "Epoch [167/200] Training Loss: 0.06155738898117066, Training Accuracy: 97.896%\n"
          ]
        },
        {
          "name": "stderr",
          "output_type": "stream",
          "text": [
            "\r 84%|████████▎ | 167/200 [1:37:36<19:13, 34.95s/it]"
          ]
        },
        {
          "name": "stdout",
          "output_type": "stream",
          "text": [
            "Test Accuracy after Epoch 167: 88.89%\n",
            "Epoch [168/200] Training Loss: 0.06034460049741866, Training Accuracy: 97.848%\n"
          ]
        },
        {
          "name": "stderr",
          "output_type": "stream",
          "text": [
            "\r 84%|████████▍ | 168/200 [1:38:11<18:38, 34.95s/it]"
          ]
        },
        {
          "name": "stdout",
          "output_type": "stream",
          "text": [
            "Test Accuracy after Epoch 168: 89.06%\n",
            "Epoch [169/200] Training Loss: 0.058787202584030834, Training Accuracy: 97.95%\n"
          ]
        },
        {
          "name": "stderr",
          "output_type": "stream",
          "text": [
            "\r 84%|████████▍ | 169/200 [1:38:46<18:07, 35.09s/it]"
          ]
        },
        {
          "name": "stdout",
          "output_type": "stream",
          "text": [
            "Test Accuracy after Epoch 169: 88.91%\n",
            "Epoch [170/200] Training Loss: 0.06298600901823367, Training Accuracy: 97.72%\n"
          ]
        },
        {
          "name": "stderr",
          "output_type": "stream",
          "text": [
            "\r 85%|████████▌ | 170/200 [1:39:21<17:29, 34.99s/it]"
          ]
        },
        {
          "name": "stdout",
          "output_type": "stream",
          "text": [
            "Test Accuracy after Epoch 170: 89.11%\n",
            "Epoch [171/200] Training Loss: 0.06050299050624642, Training Accuracy: 97.854%\n"
          ]
        },
        {
          "name": "stderr",
          "output_type": "stream",
          "text": [
            "\r 86%|████████▌ | 171/200 [1:39:56<16:58, 35.10s/it]"
          ]
        },
        {
          "name": "stdout",
          "output_type": "stream",
          "text": [
            "Test Accuracy after Epoch 171: 89.09%\n",
            "Epoch [172/200] Training Loss: 0.06151092111530816, Training Accuracy: 97.812%\n"
          ]
        },
        {
          "name": "stderr",
          "output_type": "stream",
          "text": [
            "\r 86%|████████▌ | 172/200 [1:40:31<16:22, 35.08s/it]"
          ]
        },
        {
          "name": "stdout",
          "output_type": "stream",
          "text": [
            "Test Accuracy after Epoch 172: 89.25%\n",
            "Epoch [173/200] Training Loss: 0.057650970890546396, Training Accuracy: 98.014%\n"
          ]
        },
        {
          "name": "stderr",
          "output_type": "stream",
          "text": [
            "\r 86%|████████▋ | 173/200 [1:41:06<15:45, 35.00s/it]"
          ]
        },
        {
          "name": "stdout",
          "output_type": "stream",
          "text": [
            "Test Accuracy after Epoch 173: 89.0%\n",
            "Epoch [174/200] Training Loss: 0.06044341032833928, Training Accuracy: 97.836%\n"
          ]
        },
        {
          "name": "stderr",
          "output_type": "stream",
          "text": [
            "\r 87%|████████▋ | 174/200 [1:41:41<15:08, 34.95s/it]"
          ]
        },
        {
          "name": "stdout",
          "output_type": "stream",
          "text": [
            "Test Accuracy after Epoch 174: 88.68%\n",
            "Epoch [175/200] Training Loss: 0.06085223286791378, Training Accuracy: 97.838%\n"
          ]
        },
        {
          "name": "stderr",
          "output_type": "stream",
          "text": [
            "\r 88%|████████▊ | 175/200 [1:42:16<14:32, 34.92s/it]"
          ]
        },
        {
          "name": "stdout",
          "output_type": "stream",
          "text": [
            "Test Accuracy after Epoch 175: 89.13%\n",
            "Epoch [176/200] Training Loss: 0.06158391408898565, Training Accuracy: 97.82%\n"
          ]
        },
        {
          "name": "stderr",
          "output_type": "stream",
          "text": [
            "\r 88%|████████▊ | 176/200 [1:42:51<13:58, 34.92s/it]"
          ]
        },
        {
          "name": "stdout",
          "output_type": "stream",
          "text": [
            "Test Accuracy after Epoch 176: 89.18%\n",
            "Epoch [177/200] Training Loss: 0.0589499892547841, Training Accuracy: 97.934%\n"
          ]
        },
        {
          "name": "stderr",
          "output_type": "stream",
          "text": [
            "\r 88%|████████▊ | 177/200 [1:43:26<13:23, 34.94s/it]"
          ]
        },
        {
          "name": "stdout",
          "output_type": "stream",
          "text": [
            "Test Accuracy after Epoch 177: 89.0%\n",
            "Epoch [178/200] Training Loss: 0.06020067685076495, Training Accuracy: 97.826%\n"
          ]
        },
        {
          "name": "stderr",
          "output_type": "stream",
          "text": [
            "\r 89%|████████▉ | 178/200 [1:44:01<12:49, 34.96s/it]"
          ]
        },
        {
          "name": "stdout",
          "output_type": "stream",
          "text": [
            "Test Accuracy after Epoch 178: 88.89%\n",
            "Epoch [179/200] Training Loss: 0.0608370000772807, Training Accuracy: 97.876%\n"
          ]
        },
        {
          "name": "stderr",
          "output_type": "stream",
          "text": [
            "\r 90%|████████▉ | 179/200 [1:44:36<12:12, 34.89s/it]"
          ]
        },
        {
          "name": "stdout",
          "output_type": "stream",
          "text": [
            "Test Accuracy after Epoch 179: 88.93%\n",
            "Epoch [180/200] Training Loss: 0.058331801614407305, Training Accuracy: 97.962%\n"
          ]
        },
        {
          "name": "stderr",
          "output_type": "stream",
          "text": [
            "\r 90%|█████████ | 180/200 [1:45:11<11:38, 34.95s/it]"
          ]
        },
        {
          "name": "stdout",
          "output_type": "stream",
          "text": [
            "Test Accuracy after Epoch 180: 89.15%\n",
            "Epoch [181/200] Training Loss: 0.06017146776180209, Training Accuracy: 97.89%\n"
          ]
        },
        {
          "name": "stderr",
          "output_type": "stream",
          "text": [
            "\r 90%|█████████ | 181/200 [1:45:46<11:07, 35.15s/it]"
          ]
        },
        {
          "name": "stdout",
          "output_type": "stream",
          "text": [
            "Test Accuracy after Epoch 181: 89.11%\n",
            "Epoch [182/200] Training Loss: 0.05952853564282551, Training Accuracy: 97.898%\n"
          ]
        },
        {
          "name": "stderr",
          "output_type": "stream",
          "text": [
            "\r 91%|█████████ | 182/200 [1:46:21<10:30, 35.05s/it]"
          ]
        },
        {
          "name": "stdout",
          "output_type": "stream",
          "text": [
            "Test Accuracy after Epoch 182: 89.07%\n",
            "Epoch [183/200] Training Loss: 0.05715223619252291, Training Accuracy: 97.988%\n"
          ]
        },
        {
          "name": "stderr",
          "output_type": "stream",
          "text": [
            "\r 92%|█████████▏| 183/200 [1:46:56<09:55, 35.04s/it]"
          ]
        },
        {
          "name": "stdout",
          "output_type": "stream",
          "text": [
            "Test Accuracy after Epoch 183: 89.26%\n",
            "Epoch [184/200] Training Loss: 0.06015813746310942, Training Accuracy: 97.902%\n"
          ]
        },
        {
          "name": "stderr",
          "output_type": "stream",
          "text": [
            "\r 92%|█████████▏| 184/200 [1:47:31<09:20, 35.06s/it]"
          ]
        },
        {
          "name": "stdout",
          "output_type": "stream",
          "text": [
            "Test Accuracy after Epoch 184: 89.22%\n",
            "Epoch [185/200] Training Loss: 0.06034044751926037, Training Accuracy: 97.866%\n"
          ]
        },
        {
          "name": "stderr",
          "output_type": "stream",
          "text": [
            "\r 92%|█████████▎| 185/200 [1:48:06<08:45, 35.03s/it]"
          ]
        },
        {
          "name": "stdout",
          "output_type": "stream",
          "text": [
            "Test Accuracy after Epoch 185: 88.79%\n",
            "Epoch [186/200] Training Loss: 0.0584992362958048, Training Accuracy: 97.956%\n"
          ]
        },
        {
          "name": "stderr",
          "output_type": "stream",
          "text": [
            "\r 93%|█████████▎| 186/200 [1:48:41<08:10, 35.01s/it]"
          ]
        },
        {
          "name": "stdout",
          "output_type": "stream",
          "text": [
            "Test Accuracy after Epoch 186: 89.37%\n",
            "Epoch [187/200] Training Loss: 0.05576802031768253, Training Accuracy: 98.066%\n"
          ]
        },
        {
          "name": "stderr",
          "output_type": "stream",
          "text": [
            "\r 94%|█████████▎| 187/200 [1:49:16<07:35, 35.05s/it]"
          ]
        },
        {
          "name": "stdout",
          "output_type": "stream",
          "text": [
            "Test Accuracy after Epoch 187: 88.91%\n",
            "Epoch [188/200] Training Loss: 0.05882809498368779, Training Accuracy: 97.902%\n"
          ]
        },
        {
          "name": "stderr",
          "output_type": "stream",
          "text": [
            "\r 94%|█████████▍| 188/200 [1:49:51<06:59, 34.93s/it]"
          ]
        },
        {
          "name": "stdout",
          "output_type": "stream",
          "text": [
            "Test Accuracy after Epoch 188: 88.82%\n",
            "Epoch [189/200] Training Loss: 0.058058959215193454, Training Accuracy: 97.982%\n"
          ]
        },
        {
          "name": "stderr",
          "output_type": "stream",
          "text": [
            "\r 94%|█████████▍| 189/200 [1:50:26<06:23, 34.90s/it]"
          ]
        },
        {
          "name": "stdout",
          "output_type": "stream",
          "text": [
            "Test Accuracy after Epoch 189: 89.13%\n",
            "Epoch [190/200] Training Loss: 0.05843001281809243, Training Accuracy: 97.926%\n"
          ]
        },
        {
          "name": "stderr",
          "output_type": "stream",
          "text": [
            "\r 95%|█████████▌| 190/200 [1:51:01<05:49, 34.97s/it]"
          ]
        },
        {
          "name": "stdout",
          "output_type": "stream",
          "text": [
            "Test Accuracy after Epoch 190: 88.94%\n",
            "Epoch [191/200] Training Loss: 0.05871742894477628, Training Accuracy: 97.908%\n"
          ]
        },
        {
          "name": "stderr",
          "output_type": "stream",
          "text": [
            "\r 96%|█████████▌| 191/200 [1:51:36<05:15, 35.08s/it]"
          ]
        },
        {
          "name": "stdout",
          "output_type": "stream",
          "text": [
            "Test Accuracy after Epoch 191: 89.18%\n",
            "Epoch [192/200] Training Loss: 0.05967940142630692, Training Accuracy: 97.894%\n"
          ]
        },
        {
          "name": "stderr",
          "output_type": "stream",
          "text": [
            "\r 96%|█████████▌| 192/200 [1:52:12<04:41, 35.22s/it]"
          ]
        },
        {
          "name": "stdout",
          "output_type": "stream",
          "text": [
            "Test Accuracy after Epoch 192: 89.19%\n",
            "Epoch [193/200] Training Loss: 0.060109589215549056, Training Accuracy: 97.822%\n"
          ]
        },
        {
          "name": "stderr",
          "output_type": "stream",
          "text": [
            "\r 96%|█████████▋| 193/200 [1:52:47<04:06, 35.23s/it]"
          ]
        },
        {
          "name": "stdout",
          "output_type": "stream",
          "text": [
            "Test Accuracy after Epoch 193: 89.17%\n",
            "Epoch [194/200] Training Loss: 0.05875254755653917, Training Accuracy: 97.996%\n"
          ]
        },
        {
          "name": "stderr",
          "output_type": "stream",
          "text": [
            "\r 97%|█████████▋| 194/200 [1:53:22<03:31, 35.24s/it]"
          ]
        },
        {
          "name": "stdout",
          "output_type": "stream",
          "text": [
            "Test Accuracy after Epoch 194: 89.06%\n",
            "Epoch [195/200] Training Loss: 0.06001811233275305, Training Accuracy: 97.858%\n"
          ]
        },
        {
          "name": "stderr",
          "output_type": "stream",
          "text": [
            "\r 98%|█████████▊| 195/200 [1:53:58<02:57, 35.44s/it]"
          ]
        },
        {
          "name": "stdout",
          "output_type": "stream",
          "text": [
            "Test Accuracy after Epoch 195: 89.05%\n",
            "Epoch [196/200] Training Loss: 0.05958581303039094, Training Accuracy: 97.884%\n"
          ]
        },
        {
          "name": "stderr",
          "output_type": "stream",
          "text": [
            "\r 98%|█████████▊| 196/200 [1:54:33<02:21, 35.39s/it]"
          ]
        },
        {
          "name": "stdout",
          "output_type": "stream",
          "text": [
            "Test Accuracy after Epoch 196: 88.97%\n",
            "Epoch [197/200] Training Loss: 0.05821287106303379, Training Accuracy: 97.982%\n"
          ]
        },
        {
          "name": "stderr",
          "output_type": "stream",
          "text": [
            "\r 98%|█████████▊| 197/200 [1:55:08<01:45, 35.28s/it]"
          ]
        },
        {
          "name": "stdout",
          "output_type": "stream",
          "text": [
            "Test Accuracy after Epoch 197: 88.88%\n",
            "Epoch [198/200] Training Loss: 0.058876557409039236, Training Accuracy: 97.864%\n"
          ]
        },
        {
          "name": "stderr",
          "output_type": "stream",
          "text": [
            "\r 99%|█████████▉| 198/200 [1:55:43<01:10, 35.09s/it]"
          ]
        },
        {
          "name": "stdout",
          "output_type": "stream",
          "text": [
            "Test Accuracy after Epoch 198: 88.8%\n",
            "Epoch [199/200] Training Loss: 0.05675160861752756, Training Accuracy: 97.978%\n"
          ]
        },
        {
          "name": "stderr",
          "output_type": "stream",
          "text": [
            "\r100%|█████████▉| 199/200 [1:56:18<00:35, 35.02s/it]"
          ]
        },
        {
          "name": "stdout",
          "output_type": "stream",
          "text": [
            "Test Accuracy after Epoch 199: 88.98%\n",
            "Epoch [200/200] Training Loss: 0.057190032586541095, Training Accuracy: 97.938%\n"
          ]
        },
        {
          "name": "stderr",
          "output_type": "stream",
          "text": [
            "100%|██████████| 200/200 [1:56:53<00:00, 35.07s/it]"
          ]
        },
        {
          "name": "stdout",
          "output_type": "stream",
          "text": [
            "Test Accuracy after Epoch 200: 88.68%\n"
          ]
        },
        {
          "name": "stderr",
          "output_type": "stream",
          "text": [
            "\n"
          ]
        },
        {
          "data": {
            "image/png": "[encoded data removed]",
            "text/plain": [
              "<Figure size 640x480 with 1 Axes>"
            ]
          },
          "metadata": {},
          "output_type": "display_data"
        }
      ],
      "source": [
        "\n",
        "import torch\n",
        "import torch.nn as nn\n",
        "import torch.optim as optim\n",
        "import torchvision\n",
        "import torchvision.transforms as transforms\n",
        "import torch.nn.functional as F\n",
        "from  tqdm import tqdm\n",
        "\n",
        "# Check if a GPU is available and set the device accordingly\n",
        "device = torch.device(\"cuda:0\" if torch.cuda.is_available() else \"cpu\")\n",
        "\n",
        "class BasicBlock(nn.Module):\n",
        "    def __init__(self, in_channels, out_channels, stride=1):\n",
        "        super(BasicBlock, self).__init__()\n",
        "        self.conv1 = nn.Conv2d(in_channels, out_channels, kernel_size=3, stride=stride, padding=1, bias=False)\n",
        "        self.bn1 = nn.BatchNorm2d(in_channels)\n",
        "        self.relu = nn.ReLU(inplace=True)\n",
        "        self.conv2 = nn.Conv2d(out_channels, out_channels, kernel_size=3, stride=1, padding=1, bias=False)\n",
        "        self.bn2 = nn.BatchNorm2d(out_channels)\n",
        "\n",
        "        if stride != 1 or in_channels != out_channels:\n",
        "            self.shortcut = nn.Sequential(\n",
        "                nn.Conv2d(in_channels, out_channels, kernel_size=1, stride=stride, bias=False),\n",
        "                nn.BatchNorm2d(out_channels)\n",
        "            )\n",
        "        else:\n",
        "            self.shortcut = nn.Sequential()\n",
        "\n",
        "    def forward(self, x):  # ResNet v2 backbone without skip-connections\n",
        "        #residual = x\n",
        "        out = self.bn1(x)\n",
        "        out = self.relu(out)\n",
        "        out = self.conv1(out)\n",
        "        out = self.bn2(out)\n",
        "        out = self.relu(out)\n",
        "        out = self.conv2(out)\n",
        "        #out += self.shortcut(residual)\n",
        "        return out\n",
        "\n",
        "class ResNet(nn.Module):\n",
        "    def __init__(self, block, num_blocks, num_classes=10):\n",
        "        super(ResNet, self).__init__()\n",
        "        self.in_channels = 16\n",
        "        self.conv1 = nn.Conv2d(3, 16, kernel_size=3, stride=1, padding=1, bias=False)\n",
        "        self.bn1 = nn.BatchNorm2d(3)\n",
        "        self.relu = nn.ReLU(inplace=True)\n",
        "        self.layer1 = self._make_layer(block, 16, num_blocks[0], stride=1)\n",
        "        self.layer2 = self._make_layer(block, 32, num_blocks[1], stride=2)\n",
        "        self.layer3 = self._make_layer(block, 64, num_blocks[2], stride=2)\n",
        "        self.avg_pool = nn.AdaptiveAvgPool2d((1, 1))\n",
        "        self.fc = nn.Linear(64, num_classes)\n",
        "\n",
        "    def _make_layer(self, block, out_channels, num_blocks, stride):\n",
        "        layers = []\n",
        "        layers.append(block(self.in_channels, out_channels, stride))\n",
        "        self.in_channels = out_channels\n",
        "        for _ in range(1, num_blocks):\n",
        "            layers.append(block(out_channels, out_channels, stride=1))\n",
        "        return nn.Sequential(*layers)\n",
        "\n",
        "    def add_to_y(self, y, out):   # adapting hidden layers via padding\n",
        "        y_size = y.size()\n",
        "        out_size = out.size()\n",
        "        if y_size[1] != out_size[1]:\n",
        "            conv1x1 = nn.Conv2d(y_size[1], out_size[1], kernel_size=1).to(y.device)\n",
        "            y = conv1x1(y)\n",
        "        if y_size[2:] != out_size[2:]:\n",
        "            pad_h = out_size[-2] - y_size[-2]\n",
        "            pad_w = out_size[-1] - y_size[-1]\n",
        "            y = F.pad(y, (pad_h // 2, pad_h - pad_h // 2, pad_w // 2, pad_w - pad_w // 2), \"constant\", 0)\n",
        "\n",
        "        y = y + out\n",
        "        return y\n",
        "\n",
        "\n",
        "    def forward(self, x):  #v2\n",
        "        out = self.bn1(x)\n",
        "        out = self.relu(out)\n",
        "        out = self.conv1(x)\n",
        "        y = out.clone()\n",
        "        out = self.layer1(out)\n",
        "        y = self.add_to_y(y,out)\n",
        "        out = self.layer2(out)\n",
        "        y = self.add_to_y(y,out)\n",
        "        out = self.layer3(out)\n",
        "        y = self.add_to_y(y,out)\n",
        "        out = self.avg_pool(y)\n",
        "        out = out.view(out.size(0), -1)\n",
        "        out = self.fc(out)\n",
        "        return out\n",
        "\n",
        "def ResNet20():\n",
        "    return ResNet(BasicBlock, [3, 3, 3])\n",
        "\n",
        "# Define hyperparameters\n",
        "num_epochs = 200\n",
        "batch_size = 128\n",
        "learning_rate = 0.1\n",
        "weight_decay = 1e-4\n",
        "\n",
        "# Data preprocessing and augmentation\n",
        "transform = transforms.Compose([\n",
        "    transforms.RandomHorizontalFlip(),\n",
        "    transforms.RandomCrop(32, padding=4),\n",
        "    transforms.ToTensor(),\n",
        "    transforms.Normalize((0.4914, 0.4822, 0.4465), (0.2023, 0.1994, 0.2010)),\n",
        "])\n",
        "\n",
        "# Load CIFAR-10 dataset\n",
        "train_dataset = torchvision.datasets.CIFAR10(root='./data', train=True, transform=transform, download=True)\n",
        "train_loader = torch.utils.data.DataLoader(train_dataset, batch_size=batch_size, shuffle=True)\n",
        "\n",
        "# Load CIFAR-10 test dataset\n",
        "test_dataset = torchvision.datasets.CIFAR10(root='./data', train=False, transform=transform, download=True)\n",
        "test_loader = torch.utils.data.DataLoader(test_dataset, batch_size=batch_size, shuffle=False)\n",
        "\n",
        "# Initialize the ResNet-V2 model\n",
        "net = ResNet20().to(device)\n",
        "\n",
        "# Define loss function and optimizer with weight decay\n",
        "criterion = nn.CrossEntropyLoss()\n",
        "optimizer = optim.SGD(net.parameters(), lr=learning_rate, momentum=0.9, weight_decay=weight_decay)  # Use SGD with weight decay\n",
        "scheduler = optim.lr_scheduler.StepLR(optimizer, step_size=50, gamma=0.1)  # Learning rate scheduler\n",
        "\n",
        "# Training the model\n",
        "test_accuracies = []\n",
        "avg_losses = []\n",
        "train_accuracies = []\n",
        "for epoch in tqdm(range(num_epochs)):\n",
        "    net.train()\n",
        "    total_loss = 0.0\n",
        "    correct = 0\n",
        "    total = 0\n",
        "    for i, (images, labels) in enumerate(train_loader):\n",
        "        images, labels = images.to(device), labels.to(device)  # Move data to GPU\n",
        "        optimizer.zero_grad()\n",
        "        outputs = net(images)\n",
        "        loss = criterion(outputs, labels)\n",
        "        loss.backward()\n",
        "        optimizer.step()\n",
        "        total_loss += loss.item()\n",
        "        _, predicted = torch.max(outputs.data, 1)\n",
        "        total += labels.size(0)\n",
        "        correct += (predicted == labels).sum().item()\n",
        "\n",
        "    avg_loss = total_loss / len(train_loader)\n",
        "    train_accuracy = 100 * correct / total\n",
        "\n",
        "    print(f'Epoch [{epoch+1}/{num_epochs}] Training Loss: {avg_loss}, Training Accuracy: {train_accuracy}%')\n",
        "\n",
        "    # Learning rate scheduling\n",
        "    scheduler.step()\n",
        "\n",
        "    # Evaluation on the test set\n",
        "    net.eval()\n",
        "    correct = 0\n",
        "    total = 0\n",
        "    with torch.no_grad():\n",
        "        for images, labels in test_loader:\n",
        "            images, labels = images.to(device), labels.to(device)  # Move data to GPU\n",
        "            outputs = net(images)\n",
        "            _, predicted = torch.max(outputs.data, 1)\n",
        "            total += labels.size(0)\n",
        "            correct += (predicted == labels).sum().item()\n",
        "\n",
        "    test_accuracy = 100 * correct / total\n",
        "    test_accuracies.append(test_accuracy)\n",
        "    avg_losses.append(avg_loss)\n",
        "    train_accuracies.append(train_accuracy)\n",
        "    print(f'Test Accuracy after Epoch {epoch+1}: {test_accuracy}%')\n",
        "\n",
        "# Save the trained model\n",
        "#torch.save(net.state_dict(), 'resnet_v2_cifar10_sgd.pth')  # Adjust the saved model filename if needed\n",
        "\n",
        "# Plot the test accuracy curve\n",
        "import matplotlib.pyplot as plt\n",
        "plt.plot(range(1, num_epochs + 1), test_accuracies)\n",
        "plt.xlabel('Epoch')\n",
        "plt.ylabel('Test Accuracy (%)')\n",
        "plt.title('Test Accuracy Curve')\n",
        "plt.grid(True)\n",
        "plt.show()"
      ]
    },
    {
      "cell_type": "code",
      "execution_count": null,
      "metadata": {
        "colab": {
          "base_uri": "https://localhost:8080/",
          "height": 447
        },
        "id": "wTcMfVXmkM3x",
        "outputId": "70d0b7cf-d791-41c5-f18b-aefc43d3863b"
      },
      "outputs": [
        {
          "name": "stdout",
          "output_type": "stream",
          "text": [
            "Mounted at /content/gdrive\n"
          ]
        },
        {
          "data": {
            "image/png": "[encoded data removed]",
            "text/plain": [
              "<Figure size 640x480 with 1 Axes>"
            ]
          },
          "metadata": {},
          "output_type": "display_data"
        }
      ],
      "source": [
        "momentum= 0.9\n",
        "savemodel(\"glonet_v2_resnet_noskip\", net, learning_rate, momentum, avg_losses, train_accuracies, test_accuracies)"
      ]
    }
  ]
}